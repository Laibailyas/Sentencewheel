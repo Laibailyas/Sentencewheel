{
 "cells": [
  {
   "cell_type": "code",
   "execution_count": 59,
   "metadata": {},
   "outputs": [
    {
     "data": {
      "text/plain": [
       "[]"
      ]
     },
     "execution_count": 59,
     "metadata": {},
     "output_type": "execute_result"
    }
   ],
   "source": [
    "import regex\n",
    "\n",
    "inputString = \"\"\n",
    "with open(\"D:\\Websites\\WheelOfNames\\wheelofnames.com\\js\\chunk-common-v281.js\", \"r\") as f:\n",
    "    inputString = f.read()\n",
    "\n",
    "AllMP3 = regex.findall(\"\\/images\\/.*\\.jpeg\", inputString)\n",
    "\n",
    "Mp3s = []\n",
    "for i in AllMP3:\n",
    "    if i not in Mp3s:\n",
    "        Mp3s.append(i)\n",
    "\n",
    "Mp3s"
   ]
  },
  {
   "cell_type": "code",
   "execution_count": 58,
   "metadata": {},
   "outputs": [],
   "source": [
    "import requests\n",
    "errors = []\n",
    "\n",
    "for m in Mp3s:\n",
    "    url = f\"https://wheelofnames.com{m}\"\n",
    "    try:\n",
    "        filename = url.split(\"images/\")[-1]\n",
    "\n",
    "        response = requests.get(url, stream=True)\n",
    "\n",
    "        if response.status_code == 200:\n",
    "            with open(f\"images/{filename}\", \"wb\") as f:\n",
    "                for chunk in response.iter_content(1024):\n",
    "                    f.write(chunk)\n",
    "\n",
    "            print(f\"File downloaded successfully: {filename}\")\n",
    "        else:\n",
    "            print(f\"Download failed: {response.status_code}\")\n",
    "    except:\n",
    "        errors.append(url)"
   ]
  },
  {
   "cell_type": "code",
   "execution_count": 52,
   "metadata": {},
   "outputs": [
    {
     "data": {
      "text/plain": [
       "[]"
      ]
     },
     "execution_count": 52,
     "metadata": {},
     "output_type": "execute_result"
    }
   ],
   "source": [
    "errors"
   ]
  },
  {
   "cell_type": "code",
   "execution_count": 31,
   "metadata": {},
   "outputs": [
    {
     "name": "stderr",
     "output_type": "stream",
     "text": [
      "Some characters could not be decoded, and were replaced with REPLACEMENT CHARACTER.\n"
     ]
    }
   ],
   "source": [
    "import requests\n",
    "import urllib.request\n",
    "import re\n",
    "from bs4 import BeautifulSoup\n",
    "\n",
    "r = requests.get(f\"https://wheelofnames.com{m}\")\n",
    "soup = BeautifulSoup(r.content, 'html.parser')\n",
    "\n",
    "for a in soup.find_all('a', href=re.compile(r'http.*\\.mp3')):\n",
    "    filename = a['href'][a['href'].rfind(\"/\")+1:]\n",
    "    doc = requests.get(a['href'])\n",
    "    with open(filename, 'wb') as f:\n",
    "        f.write(doc.content)\n"
   ]
  },
  {
   "cell_type": "code",
   "execution_count": 37,
   "metadata": {},
   "outputs": [],
   "source": [
    "import requests\n",
    "from bs4 import BeautifulSoup\n",
    "import re\n",
    "\n",
    "r = requests.get(f\"https://wheelofnames.com{m}\")\n",
    "soup = BeautifulSoup(r.text, 'html.parser')\n",
    "\n",
    "with requests.Session() as req:\n",
    "    for item in soup.select(\"#playlist\"):\n",
    "        for href in item.findAll(\"a\"):\n",
    "            href = href.get(\"href\")\n",
    "            name = re.search(r\"([^\\/]+$)\", href).group()\n",
    "            if '.' not in name[-4]:\n",
    "                name = name[:-3] + '.mp3'\n",
    "            else:\n",
    "                pass\n",
    "            print(f\"Downloading File {name}\")\n",
    "            download = req.get(href)\n",
    "            if download.status_code == 200:\n",
    "                with open(name, 'wb') as f:\n",
    "                    f.write(download.content)\n",
    "            else:\n",
    "                print(f\"Download Failed For File {name}\")"
   ]
  },
  {
   "cell_type": "code",
   "execution_count": 41,
   "metadata": {},
   "outputs": [
    {
     "name": "stdout",
     "output_type": "stream",
     "text": [
      "File downloaded successfully: christmas-soul-shutterstock.mp3\n"
     ]
    }
   ],
   "source": [
    "import requests\n",
    "\n",
    "url = f\"https://wheelofnames.com{m}\"\n",
    "filename = url.split(\"sounds/\")[-1]\n",
    "\n",
    "response = requests.get(url, stream=True)\n",
    "\n",
    "if response.status_code == 200:\n",
    "    with open(filename, \"wb\") as f:\n",
    "        for chunk in response.iter_content(1024):\n",
    "            f.write(chunk)\n",
    "\n",
    "    print(f\"File downloaded successfully: {filename}\")\n",
    "else:\n",
    "    print(f\"Download failed: {response.status_code}\")\n"
   ]
  },
  {
   "cell_type": "code",
   "execution_count": 43,
   "metadata": {},
   "outputs": [
    {
     "data": {
      "text/plain": [
       "'christmas-soul-shutterstock.mp3'"
      ]
     },
     "execution_count": 43,
     "metadata": {},
     "output_type": "execute_result"
    }
   ],
   "source": [
    "url.split(\"sounds/\")[-1]"
   ]
  },
  {
   "cell_type": "code",
   "execution_count": 3,
   "metadata": {},
   "outputs": [],
   "source": [
    "import json\n",
    "\n",
    "def split_string(string, chunk_size=2000):\n",
    "    return [string[i:i+chunk_size] for i in range(0, len(string), chunk_size)]\n",
    "\n",
    "with open(r\"js\\chunk-common-v281.js\", \"r\") as f:\n",
    "    input_string = f.read()\n",
    "\n",
    "result = split_string(input_string)\n",
    "with open(\"out.json\", \"w\") as f:\n",
    "    json.dump(result, f)"
   ]
  },
  {
   "cell_type": "code",
   "execution_count": 5,
   "metadata": {},
   "outputs": [
    {
     "data": {
      "text/plain": [
       "211"
      ]
     },
     "execution_count": 5,
     "metadata": {},
     "output_type": "execute_result"
    },
    {
     "ename": "",
     "evalue": "",
     "output_type": "error",
     "traceback": [
      "\u001b[1;31mThe Kernel crashed while executing code in the the current cell or a previous cell. Please review the code in the cell(s) to identify a possible cause of the failure. Click <a href='https://aka.ms/vscodeJupyterKernelCrash'>here</a> for more info. View Jupyter <a href='command:jupyter.viewOutput'>log</a> for further details."
     ]
    }
   ],
   "source": [
    "4\n",
    "len(result)"
   ]
  },
  {
   "cell_type": "code",
   "execution_count": null,
   "metadata": {},
   "outputs": [],
   "source": []
  },
  {
   "cell_type": "code",
   "execution_count": 2,
   "metadata": {},
   "outputs": [
    {
     "name": "stdout",
     "output_type": "stream",
     "text": [
      "Final angle: 39.32233830248052\n"
     ]
    }
   ],
   "source": [
    "import math\n",
    "\n",
    "# Initial values\n",
    "v = 0\n",
    "angle = 2 * math.pi * v\n",
    "speed = 0.61\n",
    "frame_rate = 60\n",
    "duration = 9\n",
    "speed_factor = 0.9847278592552836\n",
    "\n",
    "# Calculate number of frames\n",
    "num_frames = frame_rate * duration\n",
    "\n",
    "# Update angle each frame\n",
    "for _ in range(num_frames):\n",
    "    speed *= speed_factor\n",
    "    angle += speed\n",
    "\n",
    "# Print the final angle\n",
    "print(\"Final angle:\", angle)\n"
   ]
  },
  {
   "cell_type": "code",
   "execution_count": 7,
   "metadata": {},
   "outputs": [
    {
     "data": {
      "text/plain": [
       "1.3223383024805173"
      ]
     },
     "execution_count": 7,
     "metadata": {},
     "output_type": "execute_result"
    }
   ],
   "source": [
    "angle%2"
   ]
  },
  {
   "cell_type": "code",
   "execution_count": 7,
   "metadata": {},
   "outputs": [],
   "source": [
    "import math\n",
    "\n",
    "math.nextafter ()"
   ]
  },
  {
   "cell_type": "code",
   "execution_count": 1,
   "metadata": {},
   "outputs": [
    {
     "data": {
      "text/plain": [
       "199.00000000000009"
      ]
     },
     "execution_count": 1,
     "metadata": {},
     "output_type": "execute_result"
    }
   ],
   "source": [
    "angleDeg = 2359\n",
    "(angleDeg/360 - angleDeg//360)*360"
   ]
  },
  {
   "cell_type": "code",
   "execution_count": null,
   "metadata": {},
   "outputs": [],
   "source": []
  },
  {
   "cell_type": "markdown",
   "metadata": {},
   "source": [
    "# Given values\n",
    "initial_angle = 0\n",
    "speed = 0.61\n",
    "speed_factor = 0.9847278592552836\n",
    "frame_rate = 60\n",
    "duration = 9\n",
    "\n",
    "# Calculate the total number of frames\n",
    "num_frames = frame_rate * duration\n",
    "\n",
    "# Calculate the final angle using the closed-form formula\n",
    "final_angle = initial_angle * (1 - speed_factor**num_frames) / (1 - speed_factor)\n",
    "\n",
    "# Print the final angle\n",
    "print(\"Final angle:\", final_angle)\n"
   ]
  }
 ],
 "metadata": {
  "kernelspec": {
   "display_name": "base",
   "language": "python",
   "name": "python3"
  },
  "language_info": {
   "codemirror_mode": {
    "name": "ipython",
    "version": 3
   },
   "file_extension": ".py",
   "mimetype": "text/x-python",
   "name": "python",
   "nbconvert_exporter": "python",
   "pygments_lexer": "ipython3",
   "version": "3.10.13"
  }
 },
 "nbformat": 4,
 "nbformat_minor": 2
}
