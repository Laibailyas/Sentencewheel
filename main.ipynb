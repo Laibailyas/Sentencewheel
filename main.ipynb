{
 "cells": [
  {
   "cell_type": "code",
   "execution_count": 59,
   "metadata": {},
   "outputs": [
    {
     "data": {
      "text/plain": [
       "[]"
      ]
     },
     "execution_count": 59,
     "metadata": {},
     "output_type": "execute_result"
    }
   ],
   "source": [
    "import regex\n",
    "\n",
    "inputString = \"\"\n",
    "with open(\"D:\\Websites\\WheelOfNames\\wheelofnames.com\\js\\chunk-common-v281.js\", \"r\") as f:\n",
    "    inputString = f.read()\n",
    "\n",
    "AllMP3 = regex.findall(\"\\/images\\/.*\\.jpeg\", inputString)\n",
    "\n",
    "Mp3s = []\n",
    "for i in AllMP3:\n",
    "    if i not in Mp3s:\n",
    "        Mp3s.append(i)\n",
    "\n",
    "Mp3s"
   ]
  },
  {
   "cell_type": "code",
   "execution_count": 58,
   "metadata": {},
   "outputs": [],
   "source": [
    "import requests\n",
    "errors = []\n",
    "\n",
    "for m in Mp3s:\n",
    "    url = f\"https://wheelofnames.com{m}\"\n",
    "    try:\n",
    "        filename = url.split(\"images/\")[-1]\n",
    "\n",
    "        response = requests.get(url, stream=True)\n",
    "\n",
    "        if response.status_code == 200:\n",
    "            with open(f\"images/{filename}\", \"wb\") as f:\n",
    "                for chunk in response.iter_content(1024):\n",
    "                    f.write(chunk)\n",
    "\n",
    "            print(f\"File downloaded successfully: {filename}\")\n",
    "        else:\n",
    "            print(f\"Download failed: {response.status_code}\")\n",
    "    except:\n",
    "        errors.append(url)"
   ]
  },
  {
   "cell_type": "code",
   "execution_count": 52,
   "metadata": {},
   "outputs": [
    {
     "data": {
      "text/plain": [
       "[]"
      ]
     },
     "execution_count": 52,
     "metadata": {},
     "output_type": "execute_result"
    }
   ],
   "source": [
    "errors"
   ]
  },
  {
   "cell_type": "code",
   "execution_count": 31,
   "metadata": {},
   "outputs": [
    {
     "name": "stderr",
     "output_type": "stream",
     "text": [
      "Some characters could not be decoded, and were replaced with REPLACEMENT CHARACTER.\n"
     ]
    }
   ],
   "source": [
    "import requests\n",
    "import urllib.request\n",
    "import re\n",
    "from bs4 import BeautifulSoup\n",
    "\n",
    "r = requests.get(f\"https://wheelofnames.com{m}\")\n",
    "soup = BeautifulSoup(r.content, 'html.parser')\n",
    "\n",
    "for a in soup.find_all('a', href=re.compile(r'http.*\\.mp3')):\n",
    "    filename = a['href'][a['href'].rfind(\"/\")+1:]\n",
    "    doc = requests.get(a['href'])\n",
    "    with open(filename, 'wb') as f:\n",
    "        f.write(doc.content)\n"
   ]
  },
  {
   "cell_type": "code",
   "execution_count": 37,
   "metadata": {},
   "outputs": [],
   "source": [
    "import requests\n",
    "from bs4 import BeautifulSoup\n",
    "import re\n",
    "\n",
    "r = requests.get(f\"https://wheelofnames.com{m}\")\n",
    "soup = BeautifulSoup(r.text, 'html.parser')\n",
    "\n",
    "with requests.Session() as req:\n",
    "    for item in soup.select(\"#playlist\"):\n",
    "        for href in item.findAll(\"a\"):\n",
    "            href = href.get(\"href\")\n",
    "            name = re.search(r\"([^\\/]+$)\", href).group()\n",
    "            if '.' not in name[-4]:\n",
    "                name = name[:-3] + '.mp3'\n",
    "            else:\n",
    "                pass\n",
    "            print(f\"Downloading File {name}\")\n",
    "            download = req.get(href)\n",
    "            if download.status_code == 200:\n",
    "                with open(name, 'wb') as f:\n",
    "                    f.write(download.content)\n",
    "            else:\n",
    "                print(f\"Download Failed For File {name}\")"
   ]
  },
  {
   "cell_type": "code",
   "execution_count": 41,
   "metadata": {},
   "outputs": [
    {
     "name": "stdout",
     "output_type": "stream",
     "text": [
      "File downloaded successfully: christmas-soul-shutterstock.mp3\n"
     ]
    }
   ],
   "source": [
    "import requests\n",
    "\n",
    "url = f\"https://wheelofnames.com{m}\"\n",
    "filename = url.split(\"sounds/\")[-1]\n",
    "\n",
    "response = requests.get(url, stream=True)\n",
    "\n",
    "if response.status_code == 200:\n",
    "    with open(filename, \"wb\") as f:\n",
    "        for chunk in response.iter_content(1024):\n",
    "            f.write(chunk)\n",
    "\n",
    "    print(f\"File downloaded successfully: {filename}\")\n",
    "else:\n",
    "    print(f\"Download failed: {response.status_code}\")\n"
   ]
  },
  {
   "cell_type": "code",
   "execution_count": 43,
   "metadata": {},
   "outputs": [
    {
     "data": {
      "text/plain": [
       "'christmas-soul-shutterstock.mp3'"
      ]
     },
     "execution_count": 43,
     "metadata": {},
     "output_type": "execute_result"
    }
   ],
   "source": [
    "url.split(\"sounds/\")[-1]"
   ]
  }
 ],
 "metadata": {
  "kernelspec": {
   "display_name": "base",
   "language": "python",
   "name": "python3"
  },
  "language_info": {
   "codemirror_mode": {
    "name": "ipython",
    "version": 3
   },
   "file_extension": ".py",
   "mimetype": "text/x-python",
   "name": "python",
   "nbconvert_exporter": "python",
   "pygments_lexer": "ipython3",
   "version": "3.10.13"
  }
 },
 "nbformat": 4,
 "nbformat_minor": 2
}
